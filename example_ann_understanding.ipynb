{
  "nbformat": 4,
  "nbformat_minor": 0,
  "metadata": {
    "colab": {
      "name": "example-ann-understanding.ipynb",
      "private_outputs": true,
      "provenance": [],
      "toc_visible": true,
      "authorship_tag": "ABX9TyP9eiZsXdQkTdAf4W36uG9V",
      "include_colab_link": true
    },
    "kernelspec": {
      "name": "python3",
      "display_name": "Python 3"
    },
    "accelerator": "GPU"
  },
  "cells": [
    {
      "cell_type": "markdown",
      "metadata": {
        "id": "view-in-github",
        "colab_type": "text"
      },
      "source": [
        "<a href=\"https://colab.research.google.com/github/antnewman/understanding-neural-networks/blob/main/example_ann_understanding.ipynb\" target=\"_parent\"><img src=\"https://colab.research.google.com/assets/colab-badge.svg\" alt=\"Open In Colab\"/></a>"
      ]
    },
    {
      "cell_type": "markdown",
      "metadata": {
        "id": "lpEAgBP_pwQR"
      },
      "source": [
        "# Introduction\r\n",
        "\r\n",
        "When I was a child, I used to lie in a field with my grandfather and we would watch the clouds. Oh, the days before my hayfever... We would spend hours identifying gods, animals and random objects surfed by on the wind. \r\n",
        "\r\n",
        "Of course, what we were really doing was taking the observed data points and over-enhancing their patterns to see these mystical clouds. \r\n",
        "\r\n",
        "Apophenia is the tendency to perceive meaningful connections between seemingly unrelated things and our human brains like to make these correlations. While in extreme cases it can lead to serious problems, for the most part it is a useful time saver or even, if you are looking at clouds or stars, very fun. Let's just remember that correlation is not causation.  \r\n",
        "\r\n",
        "So what if we visualise, over-think and enhance the patterns learned by a neural network? What if we can witness a neural network dream and enhance the surreal patterns it sees in an image?\r\n",
        "\r\n",
        "We can forward an image through the network, then calculating the gradient of the image with respect to the activations of a particular layer. The image is then modified to increase these activations, enhancing the patterns seen by the network, and resulting in a dream-like image.\r\n",
        "\r\n",
        "Inspired by Inceptionism: Going Deeper into Neural Networks\r\n",
        "Wednesday, June 17, 2015\r\n",
        "Posted by Alexander Mordvintsev, Christopher Olah, Mike Tyka (https://ai.googleblog.com/2015/06/inceptionism-going-deeper-into-neural.html) \r\n",
        "\r\n",
        "Their DeepDream github is found here: https://github.com/google/deepdream"
      ]
    },
    {
      "cell_type": "markdown",
      "metadata": {
        "id": "uPvA3gvku5qm"
      },
      "source": [
        "# Setup"
      ]
    },
    {
      "cell_type": "code",
      "metadata": {
        "id": "M4Czn5g9pz1T"
      },
      "source": [
        "import tensorflow as tf"
      ],
      "execution_count": null,
      "outputs": []
    },
    {
      "cell_type": "code",
      "metadata": {
        "id": "1uW-IpiGpsIC"
      },
      "source": [
        "import numpy as np\r\n",
        "\r\n",
        "import pydrive\r\n",
        "\r\n",
        "import matplotlib as mpl\r\n",
        "\r\n",
        "import IPython.display as display\r\n",
        "import PIL.Image\r\n",
        "\r\n",
        "from tensorflow.keras.preprocessing import image\r\n",
        "\r\n",
        "from google.colab import drive"
      ],
      "execution_count": null,
      "outputs": []
    },
    {
      "cell_type": "markdown",
      "metadata": {
        "id": "yGYHxSKyu8fJ"
      },
      "source": [
        "# Load your image(s)"
      ]
    },
    {
      "cell_type": "code",
      "metadata": {
        "id": "mbd52ui1dLCL"
      },
      "source": [
        "drive.mount('/content/drive')"
      ],
      "execution_count": null,
      "outputs": []
    },
    {
      "cell_type": "code",
      "metadata": {
        "id": "G9xQ2su8vl-A"
      },
      "source": [
        "url1 = 'https://upload.wikimedia.org/wikipedia/commons/2/26/YellowLabradorLooking_new.jpg'\r\n",
        "url2 = 'https://cdn.vox-cdn.com/thumbor/w9eTOdJR3DBVsneqECmCrdt7nys=/0x0:3000x2002/1820x1213/filters:focal(1260x761:1740x1241):format(webp)/cdn.vox-cdn.com/uploads/chorus_image/image/67196212/AdobeStock_64125201.0.jpg'\r\n",
        "url3 = 'http://insectanalysis.files.wordpress.com/2021/02/bailey.jpg?w=2048'\r\n",
        "\r\n",
        "url = url3"
      ],
      "execution_count": null,
      "outputs": []
    },
    {
      "cell_type": "code",
      "metadata": {
        "id": "KU1RNwlDv-uv"
      },
      "source": [
        "# Download an image and read it into a NumPy array.\r\n",
        "def download(url, max_dim=None):\r\n",
        "  name = url.split('/')[-1]\r\n",
        "  image_path = tf.keras.utils.get_file(name, origin=url)\r\n",
        "  img = PIL.Image.open(image_path)\r\n",
        "  if max_dim:\r\n",
        "    img.thumbnail((max_dim, max_dim))\r\n",
        "  return np.array(img)\r\n",
        "\r\n",
        "# Normalize an image\r\n",
        "def deprocess(img):\r\n",
        "  img = 255*(img + 1.0)/2.0\r\n",
        "  return tf.cast(img, tf.uint8)\r\n",
        "\r\n",
        "# Display an image\r\n",
        "def show(img):\r\n",
        "  display.display(PIL.Image.fromarray(np.array(img)))\r\n",
        "\r\n",
        "\r\n",
        "# Downsizing the image makes it easier to work with.\r\n",
        "original_img = download(url, max_dim=500)\r\n",
        "show(original_img)\r\n",
        "display.display(display.HTML('Image cc-by: <a \"href=https://commons.wikimedia.org/wiki/File:Felis_catus-cat_on_snow.jpg\">Von.grzanka</a>'))"
      ],
      "execution_count": null,
      "outputs": []
    },
    {
      "cell_type": "markdown",
      "metadata": {
        "id": "dxh8zjf4wTvQ"
      },
      "source": [
        "# Feature Extraction Model\r\n",
        "\r\n",
        "Download and prepare a pre-trained image classification model. Following the Tensorflow team's example, here we use InceptionV3, which is similar to the model originally used in DeepDream. \r\n",
        "\r\n",
        "Please note that any pre-trained model will work, although you will have to adjust the layer names below if you change this."
      ]
    },
    {
      "cell_type": "code",
      "metadata": {
        "id": "3GsLDHBPwiul"
      },
      "source": [
        "base_model = tf.keras.applications.InceptionV3(include_top=False, weights='imagenet')"
      ],
      "execution_count": null,
      "outputs": []
    },
    {
      "cell_type": "markdown",
      "metadata": {
        "id": "fyysmq2jwnY7"
      },
      "source": [
        "The idea is to choose a layer (or layers) and maximize the \"loss\" in a way that the image increasingly \"excites\" the layers. The complexity of the features incorporated depends on layers chosen by you, i.e, lower layers produce strokes or simple patterns, while deeper layers give sophisticated features in images, or even whole objects.\r\n",
        "\r\n",
        "The InceptionV3 architecture is quite large (for a graph of the model architecture see TensorFlow's research repo). For DeepDream, the layers of interest are those where the convolutions are concatenated. There are 11 of these layers in InceptionV3, named 'mixed0' though 'mixed10'. Using different layers will result in different dream-like images. Deeper layers respond to higher-level features (such as eyes and faces), while earlier layers respond to simpler features (such as edges, shapes, and textures). Feel free to experiment with the layers selected below, but keep in mind that deeper layers (those with a higher index) will take longer to train on since the gradient computation is deeper."
      ]
    },
    {
      "cell_type": "code",
      "metadata": {
        "id": "uNiBqzjYwjEu"
      },
      "source": [
        "# Maximize the activations of these layers\r\n",
        "names = ['mixed3', 'mixed5']\r\n",
        "layers = [base_model.get_layer(name).output for name in names]\r\n",
        "\r\n",
        "# Create the feature extraction model\r\n",
        "dream_model = tf.keras.Model(inputs=base_model.input, outputs=layers)"
      ],
      "execution_count": null,
      "outputs": []
    },
    {
      "cell_type": "markdown",
      "metadata": {
        "id": "JeXSj707wxuc"
      },
      "source": [
        "# Calculate Loss\r\n",
        "\r\n",
        "The loss is the sum of the activations in the chosen layers. The loss is normalized at each layer so the contribution from larger layers does not outweigh smaller layers. Normally, loss is a quantity you wish to minimize via gradient descent. In DeepDream, you will maximize this loss via gradient ascent."
      ]
    },
    {
      "cell_type": "code",
      "metadata": {
        "id": "-PiQSTa3wvx0"
      },
      "source": [
        "def calc_loss(img, model):\r\n",
        "  # Pass forward the image through the model to retrieve the activations.\r\n",
        "  # Converts the image into a batch of size 1.\r\n",
        "  img_batch = tf.expand_dims(img, axis=0)\r\n",
        "  layer_activations = model(img_batch)\r\n",
        "  if len(layer_activations) == 1:\r\n",
        "    layer_activations = [layer_activations]\r\n",
        "\r\n",
        "  losses = []\r\n",
        "  for act in layer_activations:\r\n",
        "    loss = tf.math.reduce_mean(act)\r\n",
        "    losses.append(loss)\r\n",
        "\r\n",
        "  return  tf.reduce_sum(losses)"
      ],
      "execution_count": null,
      "outputs": []
    },
    {
      "cell_type": "markdown",
      "metadata": {
        "id": "fU8BF7Fdw842"
      },
      "source": [
        "# Gradient Ascent \r\n",
        "\r\n",
        "Once you have calculated the loss for the chosen layers, all that is left is to calculate the gradients with respect to the image, and add them to the original image.\r\n",
        "\r\n",
        "Adding the gradients to the image enhances the patterns seen by the network. At each step, you will have created an image that increasingly excites the activations of certain layers in the network.\r\n",
        "\r\n",
        "The method that does this, below, is wrapped in a tf.function for performance. It uses an input_signature to ensure that the function is not retraced for different image sizes or steps/step_size values. See the Concrete functions guide for details."
      ]
    },
    {
      "cell_type": "code",
      "metadata": {
        "id": "7iiF27gmw5b5"
      },
      "source": [
        "class DeepDream(tf.Module):\r\n",
        "  def __init__(self, model):\r\n",
        "    self.model = model\r\n",
        "\r\n",
        "  @tf.function(\r\n",
        "      input_signature=(\r\n",
        "        tf.TensorSpec(shape=[None,None,3], dtype=tf.float32),\r\n",
        "        tf.TensorSpec(shape=[], dtype=tf.int32),\r\n",
        "        tf.TensorSpec(shape=[], dtype=tf.float32),)\r\n",
        "  )\r\n",
        "  def __call__(self, img, steps, step_size):\r\n",
        "      print(\"Tracing\")\r\n",
        "      loss = tf.constant(0.0)\r\n",
        "      for n in tf.range(steps):\r\n",
        "        with tf.GradientTape() as tape:\r\n",
        "          # This needs gradients relative to `img`\r\n",
        "          # `GradientTape` only watches `tf.Variable`s by default\r\n",
        "          tape.watch(img)\r\n",
        "          loss = calc_loss(img, self.model)\r\n",
        "\r\n",
        "        # Calculate the gradient of the loss with respect to the pixels of the input image.\r\n",
        "        gradients = tape.gradient(loss, img)\r\n",
        "\r\n",
        "        # Normalize the gradients.\r\n",
        "        gradients /= tf.math.reduce_std(gradients) + 1e-8 \r\n",
        "        \r\n",
        "        # In gradient ascent, the \"loss\" is maximized so that the input image increasingly \"excites\" the layers.\r\n",
        "        # You can update the image by directly adding the gradients (because they're the same shape!)\r\n",
        "        img = img + gradients*step_size\r\n",
        "        img = tf.clip_by_value(img, -1, 1)\r\n",
        "\r\n",
        "      return loss, img"
      ],
      "execution_count": null,
      "outputs": []
    },
    {
      "cell_type": "code",
      "metadata": {
        "id": "URHJx-igxE3O"
      },
      "source": [
        "deepdream = DeepDream(dream_model)"
      ],
      "execution_count": null,
      "outputs": []
    },
    {
      "cell_type": "markdown",
      "metadata": {
        "id": "dyvBPhUxxJW9"
      },
      "source": [
        "Main Loop"
      ]
    },
    {
      "cell_type": "code",
      "metadata": {
        "id": "D9p65t2JxGZV"
      },
      "source": [
        "def run_deep_dream_simple(img, steps=100, step_size=0.01):\r\n",
        "  # Convert from uint8 to the range expected by the model.\r\n",
        "  img = tf.keras.applications.inception_v3.preprocess_input(img)\r\n",
        "  img = tf.convert_to_tensor(img)\r\n",
        "  step_size = tf.convert_to_tensor(step_size)\r\n",
        "  steps_remaining = steps\r\n",
        "  step = 0\r\n",
        "  while steps_remaining:\r\n",
        "    if steps_remaining>100:\r\n",
        "      run_steps = tf.constant(100)\r\n",
        "    else:\r\n",
        "      run_steps = tf.constant(steps_remaining)\r\n",
        "    steps_remaining -= run_steps\r\n",
        "    step += run_steps\r\n",
        "\r\n",
        "    loss, img = deepdream(img, run_steps, tf.constant(step_size))\r\n",
        "    \r\n",
        "    display.clear_output(wait=True)\r\n",
        "    show(deprocess(img))\r\n",
        "    print (\"Step {}, loss {}\".format(step, loss))\r\n",
        "\r\n",
        "\r\n",
        "  result = deprocess(img)\r\n",
        "  display.clear_output(wait=True)\r\n",
        "  show(result)\r\n",
        "\r\n",
        "  return result"
      ],
      "execution_count": null,
      "outputs": []
    },
    {
      "cell_type": "code",
      "metadata": {
        "id": "EWUbTOwUxLGQ"
      },
      "source": [
        "dream_img = run_deep_dream_simple(img=original_img, \r\n",
        "                                  steps=100, step_size=0.01)"
      ],
      "execution_count": null,
      "outputs": []
    },
    {
      "cell_type": "markdown",
      "metadata": {
        "id": "BkCJFn9rxRtK"
      },
      "source": [
        "# Taking it up an octave\r\n",
        "\r\n",
        "Pretty good, but there are a few issues with this first attempt:\r\n",
        "\r\n",
        "The output is noisy (this could be addressed with a tf.image.total_variation loss).\r\n",
        "The image is low resolution.\r\n",
        "The patterns appear like they're all happening at the same granularity.\r\n",
        "One approach that addresses all these problems is applying gradient ascent at different scales. This will allow patterns generated at smaller scales to be incorporated into patterns at higher scales and filled in with additional detail.\r\n",
        "\r\n",
        "To do this you can perform the previous gradient ascent approach, then increase the size of the image (which is referred to as an octave), and repeat this process for multiple octaves."
      ]
    },
    {
      "cell_type": "code",
      "metadata": {
        "id": "MRRua-OcxMy-"
      },
      "source": [
        "import time\r\n",
        "start = time.time()\r\n",
        "\r\n",
        "OCTAVE_SCALE = 1.30\r\n",
        "\r\n",
        "img = tf.constant(np.array(original_img))\r\n",
        "base_shape = tf.shape(img)[:-1]\r\n",
        "float_base_shape = tf.cast(base_shape, tf.float32)\r\n",
        "\r\n",
        "for n in range(-2, 3):\r\n",
        "  new_shape = tf.cast(float_base_shape*(OCTAVE_SCALE**n), tf.int32)\r\n",
        "\r\n",
        "  img = tf.image.resize(img, new_shape).numpy()\r\n",
        "\r\n",
        "  img = run_deep_dream_simple(img=img, steps=50, step_size=0.01)\r\n",
        "\r\n",
        "display.clear_output(wait=True)\r\n",
        "img = tf.image.resize(img, base_shape)\r\n",
        "img = tf.image.convert_image_dtype(img/255.0, dtype=tf.uint8)\r\n",
        "show(img)\r\n",
        "\r\n",
        "end = time.time()\r\n",
        "end-start"
      ],
      "execution_count": null,
      "outputs": []
    },
    {
      "cell_type": "markdown",
      "metadata": {
        "id": "reAKPeVexcrh"
      },
      "source": [
        "# Optional: Scaling up with tiles\r\n",
        "\r\n",
        "One thing to consider is that as the image increases in size, so will the time and memory necessary to perform the gradient calculation. The above octave implementation will not work on very large images, or many octaves.\r\n",
        "\r\n",
        "To avoid this issue you can split the image into tiles and compute the gradient for each tile.\r\n",
        "\r\n",
        "Applying random shifts to the image before each tiled computation prevents tile seams from appearing.\r\n",
        "\r\n",
        "Start by implementing the random shift:"
      ]
    },
    {
      "cell_type": "code",
      "metadata": {
        "id": "vjsya45Vxe9d"
      },
      "source": [
        "def random_roll(img, maxroll):\r\n",
        "  # Randomly shift the image to avoid tiled boundaries.\r\n",
        "  shift = tf.random.uniform(shape=[2], minval=-maxroll, maxval=maxroll, dtype=tf.int32)\r\n",
        "  img_rolled = tf.roll(img, shift=shift, axis=[0,1])\r\n",
        "  return shift, img_rolled"
      ],
      "execution_count": null,
      "outputs": []
    },
    {
      "cell_type": "code",
      "metadata": {
        "id": "vTAA30WFxiOO"
      },
      "source": [
        "shift, img_rolled = random_roll(np.array(original_img), 512)\r\n",
        "show(img_rolled)"
      ],
      "execution_count": null,
      "outputs": []
    },
    {
      "cell_type": "markdown",
      "metadata": {
        "id": "Hm4gHk7gxm8b"
      },
      "source": [
        "Here is a tiled equivalent of the deepdream function defined earlier:"
      ]
    },
    {
      "cell_type": "code",
      "metadata": {
        "id": "RtpjCkgDxj0y"
      },
      "source": [
        "class TiledGradients(tf.Module):\r\n",
        "  def __init__(self, model):\r\n",
        "    self.model = model\r\n",
        "\r\n",
        "  @tf.function(\r\n",
        "      input_signature=(\r\n",
        "        tf.TensorSpec(shape=[None,None,3], dtype=tf.float32),\r\n",
        "        tf.TensorSpec(shape=[], dtype=tf.int32),)\r\n",
        "  )\r\n",
        "  def __call__(self, img, tile_size=512):\r\n",
        "    shift, img_rolled = random_roll(img, tile_size)\r\n",
        "\r\n",
        "    # Initialize the image gradients to zero.\r\n",
        "    gradients = tf.zeros_like(img_rolled)\r\n",
        "    \r\n",
        "    # Skip the last tile, unless there's only one tile.\r\n",
        "    xs = tf.range(0, img_rolled.shape[0], tile_size)[:-1]\r\n",
        "    if not tf.cast(len(xs), bool):\r\n",
        "      xs = tf.constant([0])\r\n",
        "    ys = tf.range(0, img_rolled.shape[1], tile_size)[:-1]\r\n",
        "    if not tf.cast(len(ys), bool):\r\n",
        "      ys = tf.constant([0])\r\n",
        "\r\n",
        "    for x in xs:\r\n",
        "      for y in ys:\r\n",
        "        # Calculate the gradients for this tile.\r\n",
        "        with tf.GradientTape() as tape:\r\n",
        "          # This needs gradients relative to `img_rolled`.\r\n",
        "          # `GradientTape` only watches `tf.Variable`s by default.\r\n",
        "          tape.watch(img_rolled)\r\n",
        "\r\n",
        "          # Extract a tile out of the image.\r\n",
        "          img_tile = img_rolled[x:x+tile_size, y:y+tile_size]\r\n",
        "          loss = calc_loss(img_tile, self.model)\r\n",
        "\r\n",
        "        # Update the image gradients for this tile.\r\n",
        "        gradients = gradients + tape.gradient(loss, img_rolled)\r\n",
        "\r\n",
        "    # Undo the random shift applied to the image and its gradients.\r\n",
        "    gradients = tf.roll(gradients, shift=-shift, axis=[0,1])\r\n",
        "\r\n",
        "    # Normalize the gradients.\r\n",
        "    gradients /= tf.math.reduce_std(gradients) + 1e-8 \r\n",
        "\r\n",
        "    return gradients "
      ],
      "execution_count": null,
      "outputs": []
    },
    {
      "cell_type": "code",
      "metadata": {
        "id": "mDswfodKxxGh"
      },
      "source": [
        "get_tiled_gradients = TiledGradients(dream_model)"
      ],
      "execution_count": null,
      "outputs": []
    },
    {
      "cell_type": "code",
      "metadata": {
        "id": "g1DKTe61xzUV"
      },
      "source": [
        "def run_deep_dream_with_octaves(img, steps_per_octave=100, step_size=0.01, \r\n",
        "                                octaves=range(-2,3), octave_scale=1.3):\r\n",
        "  base_shape = tf.shape(img)\r\n",
        "  img = tf.keras.preprocessing.image.img_to_array(img)\r\n",
        "  img = tf.keras.applications.inception_v3.preprocess_input(img)\r\n",
        "\r\n",
        "  initial_shape = img.shape[:-1]\r\n",
        "  img = tf.image.resize(img, initial_shape)\r\n",
        "  for octave in octaves:\r\n",
        "    # Scale the image based on the octave\r\n",
        "    new_size = tf.cast(tf.convert_to_tensor(base_shape[:-1]), tf.float32)*(octave_scale**octave)\r\n",
        "    img = tf.image.resize(img, tf.cast(new_size, tf.int32))\r\n",
        "\r\n",
        "    for step in range(steps_per_octave):\r\n",
        "      gradients = get_tiled_gradients(img)\r\n",
        "      img = img + gradients*step_size\r\n",
        "      img = tf.clip_by_value(img, -1, 1)\r\n",
        "\r\n",
        "      if step % 10 == 0:\r\n",
        "        display.clear_output(wait=True)\r\n",
        "        show(deprocess(img))\r\n",
        "        print (\"Octave {}, Step {}\".format(octave, step))\r\n",
        "    \r\n",
        "  result = deprocess(img)\r\n",
        "  return result"
      ],
      "execution_count": null,
      "outputs": []
    },
    {
      "cell_type": "code",
      "metadata": {
        "id": "UiUg5I_Fx2J6"
      },
      "source": [
        "img = run_deep_dream_with_octaves(img=original_img, step_size=0.01)\r\n",
        "\r\n",
        "display.clear_output(wait=True)\r\n",
        "img = tf.image.resize(img, base_shape)\r\n",
        "img = tf.image.convert_image_dtype(img/255.0, dtype=tf.uint8)\r\n",
        "show(img)"
      ],
      "execution_count": null,
      "outputs": []
    },
    {
      "cell_type": "code",
      "metadata": {
        "id": "TFkf4tzZx30z"
      },
      "source": [
        ""
      ],
      "execution_count": null,
      "outputs": []
    }
  ]
}